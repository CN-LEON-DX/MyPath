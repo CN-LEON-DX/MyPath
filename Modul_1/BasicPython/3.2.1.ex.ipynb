{
 "cells": [
  {
   "cell_type": "code",
   "execution_count": 7,
   "metadata": {},
   "outputs": [
    {
     "name": "stdout",
     "output_type": "stream",
     "text": [
      "{0.3333333333333333, 0.5, 0.4}\n"
     ]
    }
   ],
   "source": [
    "import numpy as np\n",
    "import math\n",
    "def cube(a):\n",
    "    return a**3\n",
    "def rectangular(a, b, h):\n",
    "    return a * b * h\n",
    "def circle(r):\n",
    "    return math.pi * r ** 2\n",
    "def sphere(r):\n",
    "    return 4/3 * math.pi * r**2\n",
    "def classification_f1_score(tp, fn, fp):\n",
    "    assert type(tp) == int and type(fn) == int and type(fp) == int, \"The input must be type int\"\n",
    "    assert tp >= 0 and fn >= 0 and fp >= 0, \"Value input must be non-negative\"\n",
    "    precision = tp/(tp + fp) # => \n",
    "    recall = tp/(tp+fn)\n",
    "    f1_score = (2*precision*recall)/(precision + recall)\n",
    "    return {precision, recall, f1_score}\n",
    "\n",
    "def run():\n",
    "    res = classification_f1_score(1, 1, 2)\n",
    "    print(res)\n",
    "\n",
    "run()"
   ]
  },
  {
   "cell_type": "code",
   "execution_count": 9,
   "metadata": {},
   "outputs": [
    {
     "name": "stdout",
     "output_type": "stream",
     "text": [
      "3\n",
      "0\n",
      "0.9999546021312976\n",
      "4.5397868702434395e-05\n",
      "10\n",
      "4\n"
     ]
    }
   ],
   "source": [
    "# write func simulate activation function\n",
    "def binary_step_func(x):\n",
    "    return x if x>= 0 else 0 \n",
    "\n",
    "def sigmoid_func(x):\n",
    "    assert type(x) == int, \"The input must be int\"\n",
    "    return 1/(1 + math.exp(-x))\n",
    "def elu_function(a, x):\n",
    "    assert type(x) == int, \"The input must be int\"\n",
    "    return a*(math.exp(x) - 1) if x < 0 else x\n",
    "\n",
    "print(binary_step_func(3))\n",
    "print(binary_step_func(-3))\n",
    "\n",
    "print(sigmoid_func(10))\n",
    "print(sigmoid_func(-10))\n",
    "\n",
    "print(elu_function(3, 10))\n",
    "print(elu_function(6, 4))\n"
   ]
  },
  {
   "cell_type": "code",
   "execution_count": 13,
   "metadata": {},
   "outputs": [
    {
     "name": "stdout",
     "output_type": "stream",
     "text": [
      "Subarray with sum 5 found from index 1 to 3: [2, 1, 2]\n",
      "Subarray with sum 5 found from index 5 to 5: [5]\n",
      "Subarray with sum 5 found from index 7 to 8: [2, 3]\n"
     ]
    }
   ],
   "source": [
    "# print all array has sum k\n",
    "def subarray(a, k):\n",
    "    l = 0\n",
    "    r = 0\n",
    "    sum = 0;\n",
    "    while (r < len(a)):\n",
    "        sum += a[r]\n",
    "        while (sum > k and sum - a[l] >= 0):\n",
    "            sum -= a[l]\n",
    "            l+=1\n",
    "        if (sum == k):\n",
    "            print(f\"Subarray with sum {k} found from index {l} to {r}: {a[l:r+1]}\")\n",
    "        r+=1\n",
    "\n",
    "subarray([1, 2, 1, 2, 4, 5, 1, 2, 3], 5)\n"
   ]
  },
  {
   "cell_type": "code",
   "execution_count": null,
   "metadata": {},
   "outputs": [],
   "source": [
    "# "
   ]
  }
 ],
 "metadata": {
  "kernelspec": {
   "display_name": "base",
   "language": "python",
   "name": "python3"
  },
  "language_info": {
   "codemirror_mode": {
    "name": "ipython",
    "version": 3
   },
   "file_extension": ".py",
   "mimetype": "text/x-python",
   "name": "python",
   "nbconvert_exporter": "python",
   "pygments_lexer": "ipython3",
   "version": "3.12.4"
  }
 },
 "nbformat": 4,
 "nbformat_minor": 2
}
